{
 "cells": [
  {
   "cell_type": "code",
   "execution_count": 16,
   "metadata": {
    "collapsed": true
   },
   "outputs": [],
   "source": [
    "from IPython.display import HTML, IFrame, YouTubeVideo, Image\n",
    "import numpy as np\n",
    "import matplotlib\n",
    "import matplotlib.pyplot as plt\n",
    "%matplotlib inline"
   ]
  },
  {
   "cell_type": "code",
   "execution_count": 17,
   "metadata": {
    "collapsed": true
   },
   "outputs": [],
   "source": [
    "matplotlib.style.use('seaborn-talk')"
   ]
  },
  {
   "cell_type": "markdown",
   "metadata": {
    "slideshow": {
     "slide_type": "slide"
    }
   },
   "source": [
    "# \"Tidy\" Data in Python: Embracing the Long DataFrame\n",
    "\n",
    "## Nick Del Grosso, PyData München"
   ]
  },
  {
   "cell_type": "code",
   "execution_count": 18,
   "metadata": {},
   "outputs": [
    {
     "data": {
      "text/html": [
       "\n",
       "        <iframe\n",
       "            width=\"800\"\n",
       "            height=\"600\"\n",
       "            src=\"https://www.tidyverse.org/\"\n",
       "            frameborder=\"0\"\n",
       "            allowfullscreen\n",
       "        ></iframe>\n",
       "        "
      ],
      "text/plain": [
       "<IPython.lib.display.IFrame at 0x1a1dc46a90>"
      ]
     },
     "execution_count": 18,
     "metadata": {},
     "output_type": "execute_result"
    }
   ],
   "source": [
    "IFrame('https://www.tidyverse.org/', width=800, height=600)"
   ]
  },
  {
   "cell_type": "markdown",
   "metadata": {
    "slideshow": {
     "slide_type": "slide"
    }
   },
   "source": [
    "## Today's Packages"
   ]
  },
  {
   "cell_type": "code",
   "execution_count": 19,
   "metadata": {
    "collapsed": true
   },
   "outputs": [],
   "source": [
    "import numpy as np\n",
    "import matplotlib.pyplot as plt\n",
    "%matplotlib inline"
   ]
  },
  {
   "cell_type": "code",
   "execution_count": 20,
   "metadata": {
    "collapsed": true
   },
   "outputs": [],
   "source": [
    "import pandas as pd"
   ]
  },
  {
   "cell_type": "code",
   "execution_count": 21,
   "metadata": {},
   "outputs": [],
   "source": [
    "import seaborn as sns"
   ]
  },
  {
   "cell_type": "markdown",
   "metadata": {},
   "source": [
    "## Today's Data will be..."
   ]
  },
  {
   "cell_type": "code",
   "execution_count": 7,
   "metadata": {},
   "outputs": [
    {
     "data": {
      "text/html": [
       "\n",
       "        <iframe\n",
       "            width=\"900\"\n",
       "            height=\"600\"\n",
       "            src=\"http://www.statsmodels.org/stable/datasets/index.html\"\n",
       "            frameborder=\"0\"\n",
       "            allowfullscreen\n",
       "        ></iframe>\n",
       "        "
      ],
      "text/plain": [
       "<IPython.lib.display.IFrame at 0x112638cf8>"
      ]
     },
     "execution_count": 7,
     "metadata": {},
     "output_type": "execute_result"
    }
   ],
   "source": [
    "from statsmodels import datasets\n",
    "IFrame('http://www.statsmodels.org/stable/datasets/index.html', width=900, height=600)"
   ]
  },
  {
   "cell_type": "markdown",
   "metadata": {
    "slideshow": {
     "slide_type": "slide"
    }
   },
   "source": [
    "## Our Sample Dataset for the Evening: World Fertility Rates!"
   ]
  },
  {
   "cell_type": "markdown",
   "metadata": {
    "slideshow": {
     "slide_type": "-"
    }
   },
   "source": [
    "![title](https://mereorthodoxy.com/wp-content/uploads/2017/05/landscape_movies-children-of-men.jpg)"
   ]
  },
  {
   "cell_type": "markdown",
   "metadata": {},
   "source": [
    "## Downloading the Data"
   ]
  },
  {
   "cell_type": "code",
   "execution_count": 8,
   "metadata": {
    "slideshow": {
     "slide_type": "subslide"
    }
   },
   "outputs": [
    {
     "data": {
      "text/html": [
       "<div>\n",
       "<style>\n",
       "    .dataframe thead tr:only-child th {\n",
       "        text-align: right;\n",
       "    }\n",
       "\n",
       "    .dataframe thead th {\n",
       "        text-align: left;\n",
       "    }\n",
       "\n",
       "    .dataframe tbody tr th {\n",
       "        vertical-align: top;\n",
       "    }\n",
       "</style>\n",
       "<table border=\"1\" class=\"dataframe\">\n",
       "  <thead>\n",
       "    <tr style=\"text-align: right;\">\n",
       "      <th></th>\n",
       "      <th>CountryName</th>\n",
       "      <th>CountryCode</th>\n",
       "      <th>IndicatorName</th>\n",
       "      <th>IndicatorCode</th>\n",
       "      <th>1960</th>\n",
       "      <th>1961</th>\n",
       "      <th>1962</th>\n",
       "      <th>1963</th>\n",
       "      <th>1964</th>\n",
       "      <th>1965</th>\n",
       "      <th>...</th>\n",
       "      <th>2004</th>\n",
       "      <th>2005</th>\n",
       "      <th>2006</th>\n",
       "      <th>2007</th>\n",
       "      <th>2008</th>\n",
       "      <th>2009</th>\n",
       "      <th>2010</th>\n",
       "      <th>2011</th>\n",
       "      <th>2012</th>\n",
       "      <th>2013</th>\n",
       "    </tr>\n",
       "  </thead>\n",
       "  <tbody>\n",
       "    <tr>\n",
       "      <th>0</th>\n",
       "      <td>Aruba</td>\n",
       "      <td>ABW</td>\n",
       "      <td>Fertility rate, total (births per woman)</td>\n",
       "      <td>SP.DYN.TFRT.IN</td>\n",
       "      <td>4.820</td>\n",
       "      <td>4.655</td>\n",
       "      <td>4.471</td>\n",
       "      <td>4.271</td>\n",
       "      <td>4.059</td>\n",
       "      <td>3.842</td>\n",
       "      <td>...</td>\n",
       "      <td>1.786</td>\n",
       "      <td>1.769</td>\n",
       "      <td>1.754</td>\n",
       "      <td>1.739</td>\n",
       "      <td>1.726</td>\n",
       "      <td>1.713</td>\n",
       "      <td>1.701</td>\n",
       "      <td>1.690</td>\n",
       "      <td>NaN</td>\n",
       "      <td>NaN</td>\n",
       "    </tr>\n",
       "    <tr>\n",
       "      <th>1</th>\n",
       "      <td>Andorra</td>\n",
       "      <td>AND</td>\n",
       "      <td>Fertility rate, total (births per woman)</td>\n",
       "      <td>SP.DYN.TFRT.IN</td>\n",
       "      <td>NaN</td>\n",
       "      <td>NaN</td>\n",
       "      <td>NaN</td>\n",
       "      <td>NaN</td>\n",
       "      <td>NaN</td>\n",
       "      <td>NaN</td>\n",
       "      <td>...</td>\n",
       "      <td>NaN</td>\n",
       "      <td>NaN</td>\n",
       "      <td>1.240</td>\n",
       "      <td>1.180</td>\n",
       "      <td>1.250</td>\n",
       "      <td>1.190</td>\n",
       "      <td>1.220</td>\n",
       "      <td>NaN</td>\n",
       "      <td>NaN</td>\n",
       "      <td>NaN</td>\n",
       "    </tr>\n",
       "    <tr>\n",
       "      <th>2</th>\n",
       "      <td>Afghanistan</td>\n",
       "      <td>AFG</td>\n",
       "      <td>Fertility rate, total (births per woman)</td>\n",
       "      <td>SP.DYN.TFRT.IN</td>\n",
       "      <td>7.671</td>\n",
       "      <td>7.671</td>\n",
       "      <td>7.671</td>\n",
       "      <td>7.671</td>\n",
       "      <td>7.671</td>\n",
       "      <td>7.671</td>\n",
       "      <td>...</td>\n",
       "      <td>7.136</td>\n",
       "      <td>6.930</td>\n",
       "      <td>6.702</td>\n",
       "      <td>6.456</td>\n",
       "      <td>6.196</td>\n",
       "      <td>5.928</td>\n",
       "      <td>5.659</td>\n",
       "      <td>5.395</td>\n",
       "      <td>NaN</td>\n",
       "      <td>NaN</td>\n",
       "    </tr>\n",
       "    <tr>\n",
       "      <th>3</th>\n",
       "      <td>Angola</td>\n",
       "      <td>AGO</td>\n",
       "      <td>Fertility rate, total (births per woman)</td>\n",
       "      <td>SP.DYN.TFRT.IN</td>\n",
       "      <td>7.316</td>\n",
       "      <td>7.354</td>\n",
       "      <td>7.385</td>\n",
       "      <td>7.410</td>\n",
       "      <td>7.425</td>\n",
       "      <td>7.430</td>\n",
       "      <td>...</td>\n",
       "      <td>6.704</td>\n",
       "      <td>6.657</td>\n",
       "      <td>6.598</td>\n",
       "      <td>6.523</td>\n",
       "      <td>6.434</td>\n",
       "      <td>6.331</td>\n",
       "      <td>6.218</td>\n",
       "      <td>6.099</td>\n",
       "      <td>NaN</td>\n",
       "      <td>NaN</td>\n",
       "    </tr>\n",
       "    <tr>\n",
       "      <th>4</th>\n",
       "      <td>Albania</td>\n",
       "      <td>ALB</td>\n",
       "      <td>Fertility rate, total (births per woman)</td>\n",
       "      <td>SP.DYN.TFRT.IN</td>\n",
       "      <td>6.186</td>\n",
       "      <td>6.076</td>\n",
       "      <td>5.956</td>\n",
       "      <td>5.833</td>\n",
       "      <td>5.711</td>\n",
       "      <td>5.594</td>\n",
       "      <td>...</td>\n",
       "      <td>2.004</td>\n",
       "      <td>1.919</td>\n",
       "      <td>1.849</td>\n",
       "      <td>1.796</td>\n",
       "      <td>1.761</td>\n",
       "      <td>1.744</td>\n",
       "      <td>1.741</td>\n",
       "      <td>1.748</td>\n",
       "      <td>NaN</td>\n",
       "      <td>NaN</td>\n",
       "    </tr>\n",
       "  </tbody>\n",
       "</table>\n",
       "<p>5 rows × 58 columns</p>\n",
       "</div>"
      ],
      "text/plain": [
       "   CountryName CountryCode                             IndicatorName  \\\n",
       "0        Aruba         ABW  Fertility rate, total (births per woman)   \n",
       "1      Andorra         AND  Fertility rate, total (births per woman)   \n",
       "2  Afghanistan         AFG  Fertility rate, total (births per woman)   \n",
       "3       Angola         AGO  Fertility rate, total (births per woman)   \n",
       "4      Albania         ALB  Fertility rate, total (births per woman)   \n",
       "\n",
       "    IndicatorCode   1960   1961   1962   1963   1964   1965  ...    2004  \\\n",
       "0  SP.DYN.TFRT.IN  4.820  4.655  4.471  4.271  4.059  3.842  ...   1.786   \n",
       "1  SP.DYN.TFRT.IN    NaN    NaN    NaN    NaN    NaN    NaN  ...     NaN   \n",
       "2  SP.DYN.TFRT.IN  7.671  7.671  7.671  7.671  7.671  7.671  ...   7.136   \n",
       "3  SP.DYN.TFRT.IN  7.316  7.354  7.385  7.410  7.425  7.430  ...   6.704   \n",
       "4  SP.DYN.TFRT.IN  6.186  6.076  5.956  5.833  5.711  5.594  ...   2.004   \n",
       "\n",
       "    2005   2006   2007   2008   2009   2010   2011  2012  2013  \n",
       "0  1.769  1.754  1.739  1.726  1.713  1.701  1.690   NaN   NaN  \n",
       "1    NaN  1.240  1.180  1.250  1.190  1.220    NaN   NaN   NaN  \n",
       "2  6.930  6.702  6.456  6.196  5.928  5.659  5.395   NaN   NaN  \n",
       "3  6.657  6.598  6.523  6.434  6.331  6.218  6.099   NaN   NaN  \n",
       "4  1.919  1.849  1.796  1.761  1.744  1.741  1.748   NaN   NaN  \n",
       "\n",
       "[5 rows x 58 columns]"
      ]
     },
     "execution_count": 8,
     "metadata": {},
     "output_type": "execute_result"
    }
   ],
   "source": [
    "from statsmodels import datasets\n",
    "df = datasets.fertility.load_pandas().data\n",
    "df.columns = df.columns.str.replace(' ', '')\n",
    "df.head()"
   ]
  },
  {
   "cell_type": "code",
   "execution_count": 9,
   "metadata": {
    "collapsed": true
   },
   "outputs": [],
   "source": [
    "df.to_csv('worldbankdata.csv')"
   ]
  },
  {
   "cell_type": "markdown",
   "metadata": {
    "slideshow": {
     "slide_type": "slide"
    }
   },
   "source": [
    "## The \"DataFrame\" Package\": Pandas"
   ]
  },
  {
   "cell_type": "code",
   "execution_count": 10,
   "metadata": {},
   "outputs": [
    {
     "data": {
      "text/html": [
       "\n",
       "        <iframe\n",
       "            width=\"800\"\n",
       "            height=\"600\"\n",
       "            src=\"http://pandas.pydata.org/\"\n",
       "            frameborder=\"0\"\n",
       "            allowfullscreen\n",
       "        ></iframe>\n",
       "        "
      ],
      "text/plain": [
       "<IPython.lib.display.IFrame at 0x112645400>"
      ]
     },
     "execution_count": 10,
     "metadata": {},
     "output_type": "execute_result"
    }
   ],
   "source": [
    "IFrame('http://pandas.pydata.org/', width=800, height=600)"
   ]
  },
  {
   "cell_type": "markdown",
   "metadata": {
    "slideshow": {
     "slide_type": "subslide"
    }
   },
   "source": [
    "## Review of Pandas: Summarizing, Filtering, Selecting, Transforming, Aggregating, and Plotting"
   ]
  },
  {
   "cell_type": "code",
   "execution_count": 11,
   "metadata": {},
   "outputs": [
    {
     "data": {
      "text/html": [
       "<div>\n",
       "<style>\n",
       "    .dataframe thead tr:only-child th {\n",
       "        text-align: right;\n",
       "    }\n",
       "\n",
       "    .dataframe thead th {\n",
       "        text-align: left;\n",
       "    }\n",
       "\n",
       "    .dataframe tbody tr th {\n",
       "        vertical-align: top;\n",
       "    }\n",
       "</style>\n",
       "<table border=\"1\" class=\"dataframe\">\n",
       "  <thead>\n",
       "    <tr style=\"text-align: right;\">\n",
       "      <th></th>\n",
       "      <th>CountryName</th>\n",
       "      <th>CountryCode</th>\n",
       "      <th>IndicatorName</th>\n",
       "      <th>IndicatorCode</th>\n",
       "      <th>1960</th>\n",
       "      <th>1961</th>\n",
       "      <th>1962</th>\n",
       "      <th>1963</th>\n",
       "      <th>1964</th>\n",
       "      <th>1965</th>\n",
       "      <th>...</th>\n",
       "      <th>2004</th>\n",
       "      <th>2005</th>\n",
       "      <th>2006</th>\n",
       "      <th>2007</th>\n",
       "      <th>2008</th>\n",
       "      <th>2009</th>\n",
       "      <th>2010</th>\n",
       "      <th>2011</th>\n",
       "      <th>2012</th>\n",
       "      <th>2013</th>\n",
       "    </tr>\n",
       "  </thead>\n",
       "  <tbody>\n",
       "    <tr>\n",
       "      <th>0</th>\n",
       "      <td>Aruba</td>\n",
       "      <td>ABW</td>\n",
       "      <td>Fertility rate, total (births per woman)</td>\n",
       "      <td>SP.DYN.TFRT.IN</td>\n",
       "      <td>4.820</td>\n",
       "      <td>4.655</td>\n",
       "      <td>4.471</td>\n",
       "      <td>4.271</td>\n",
       "      <td>4.059</td>\n",
       "      <td>3.842</td>\n",
       "      <td>...</td>\n",
       "      <td>1.786</td>\n",
       "      <td>1.769</td>\n",
       "      <td>1.754</td>\n",
       "      <td>1.739</td>\n",
       "      <td>1.726</td>\n",
       "      <td>1.713</td>\n",
       "      <td>1.701</td>\n",
       "      <td>1.690</td>\n",
       "      <td>NaN</td>\n",
       "      <td>NaN</td>\n",
       "    </tr>\n",
       "    <tr>\n",
       "      <th>1</th>\n",
       "      <td>Andorra</td>\n",
       "      <td>AND</td>\n",
       "      <td>Fertility rate, total (births per woman)</td>\n",
       "      <td>SP.DYN.TFRT.IN</td>\n",
       "      <td>NaN</td>\n",
       "      <td>NaN</td>\n",
       "      <td>NaN</td>\n",
       "      <td>NaN</td>\n",
       "      <td>NaN</td>\n",
       "      <td>NaN</td>\n",
       "      <td>...</td>\n",
       "      <td>NaN</td>\n",
       "      <td>NaN</td>\n",
       "      <td>1.240</td>\n",
       "      <td>1.180</td>\n",
       "      <td>1.250</td>\n",
       "      <td>1.190</td>\n",
       "      <td>1.220</td>\n",
       "      <td>NaN</td>\n",
       "      <td>NaN</td>\n",
       "      <td>NaN</td>\n",
       "    </tr>\n",
       "    <tr>\n",
       "      <th>2</th>\n",
       "      <td>Afghanistan</td>\n",
       "      <td>AFG</td>\n",
       "      <td>Fertility rate, total (births per woman)</td>\n",
       "      <td>SP.DYN.TFRT.IN</td>\n",
       "      <td>7.671</td>\n",
       "      <td>7.671</td>\n",
       "      <td>7.671</td>\n",
       "      <td>7.671</td>\n",
       "      <td>7.671</td>\n",
       "      <td>7.671</td>\n",
       "      <td>...</td>\n",
       "      <td>7.136</td>\n",
       "      <td>6.930</td>\n",
       "      <td>6.702</td>\n",
       "      <td>6.456</td>\n",
       "      <td>6.196</td>\n",
       "      <td>5.928</td>\n",
       "      <td>5.659</td>\n",
       "      <td>5.395</td>\n",
       "      <td>NaN</td>\n",
       "      <td>NaN</td>\n",
       "    </tr>\n",
       "    <tr>\n",
       "      <th>3</th>\n",
       "      <td>Angola</td>\n",
       "      <td>AGO</td>\n",
       "      <td>Fertility rate, total (births per woman)</td>\n",
       "      <td>SP.DYN.TFRT.IN</td>\n",
       "      <td>7.316</td>\n",
       "      <td>7.354</td>\n",
       "      <td>7.385</td>\n",
       "      <td>7.410</td>\n",
       "      <td>7.425</td>\n",
       "      <td>7.430</td>\n",
       "      <td>...</td>\n",
       "      <td>6.704</td>\n",
       "      <td>6.657</td>\n",
       "      <td>6.598</td>\n",
       "      <td>6.523</td>\n",
       "      <td>6.434</td>\n",
       "      <td>6.331</td>\n",
       "      <td>6.218</td>\n",
       "      <td>6.099</td>\n",
       "      <td>NaN</td>\n",
       "      <td>NaN</td>\n",
       "    </tr>\n",
       "    <tr>\n",
       "      <th>4</th>\n",
       "      <td>Albania</td>\n",
       "      <td>ALB</td>\n",
       "      <td>Fertility rate, total (births per woman)</td>\n",
       "      <td>SP.DYN.TFRT.IN</td>\n",
       "      <td>6.186</td>\n",
       "      <td>6.076</td>\n",
       "      <td>5.956</td>\n",
       "      <td>5.833</td>\n",
       "      <td>5.711</td>\n",
       "      <td>5.594</td>\n",
       "      <td>...</td>\n",
       "      <td>2.004</td>\n",
       "      <td>1.919</td>\n",
       "      <td>1.849</td>\n",
       "      <td>1.796</td>\n",
       "      <td>1.761</td>\n",
       "      <td>1.744</td>\n",
       "      <td>1.741</td>\n",
       "      <td>1.748</td>\n",
       "      <td>NaN</td>\n",
       "      <td>NaN</td>\n",
       "    </tr>\n",
       "  </tbody>\n",
       "</table>\n",
       "<p>5 rows × 58 columns</p>\n",
       "</div>"
      ],
      "text/plain": [
       "   CountryName CountryCode                             IndicatorName  \\\n",
       "0        Aruba         ABW  Fertility rate, total (births per woman)   \n",
       "1      Andorra         AND  Fertility rate, total (births per woman)   \n",
       "2  Afghanistan         AFG  Fertility rate, total (births per woman)   \n",
       "3       Angola         AGO  Fertility rate, total (births per woman)   \n",
       "4      Albania         ALB  Fertility rate, total (births per woman)   \n",
       "\n",
       "    IndicatorCode   1960   1961   1962   1963   1964   1965  ...    2004  \\\n",
       "0  SP.DYN.TFRT.IN  4.820  4.655  4.471  4.271  4.059  3.842  ...   1.786   \n",
       "1  SP.DYN.TFRT.IN    NaN    NaN    NaN    NaN    NaN    NaN  ...     NaN   \n",
       "2  SP.DYN.TFRT.IN  7.671  7.671  7.671  7.671  7.671  7.671  ...   7.136   \n",
       "3  SP.DYN.TFRT.IN  7.316  7.354  7.385  7.410  7.425  7.430  ...   6.704   \n",
       "4  SP.DYN.TFRT.IN  6.186  6.076  5.956  5.833  5.711  5.594  ...   2.004   \n",
       "\n",
       "    2005   2006   2007   2008   2009   2010   2011  2012  2013  \n",
       "0  1.769  1.754  1.739  1.726  1.713  1.701  1.690   NaN   NaN  \n",
       "1    NaN  1.240  1.180  1.250  1.190  1.220    NaN   NaN   NaN  \n",
       "2  6.930  6.702  6.456  6.196  5.928  5.659  5.395   NaN   NaN  \n",
       "3  6.657  6.598  6.523  6.434  6.331  6.218  6.099   NaN   NaN  \n",
       "4  1.919  1.849  1.796  1.761  1.744  1.741  1.748   NaN   NaN  \n",
       "\n",
       "[5 rows x 58 columns]"
      ]
     },
     "execution_count": 11,
     "metadata": {},
     "output_type": "execute_result"
    }
   ],
   "source": [
    "df2 = df.copy()\n",
    "# df2 = df2.set_index('CountryName')\n",
    "df2.head()"
   ]
  },
  {
   "cell_type": "code",
   "execution_count": 12,
   "metadata": {},
   "outputs": [
    {
     "data": {
      "text/html": [
       "<div>\n",
       "<style>\n",
       "    .dataframe thead tr:only-child th {\n",
       "        text-align: right;\n",
       "    }\n",
       "\n",
       "    .dataframe thead th {\n",
       "        text-align: left;\n",
       "    }\n",
       "\n",
       "    .dataframe tbody tr th {\n",
       "        vertical-align: top;\n",
       "    }\n",
       "</style>\n",
       "<table border=\"1\" class=\"dataframe\">\n",
       "  <thead>\n",
       "    <tr style=\"text-align: right;\">\n",
       "      <th>Year</th>\n",
       "      <th>1960</th>\n",
       "      <th>1961</th>\n",
       "      <th>1962</th>\n",
       "      <th>1963</th>\n",
       "      <th>1964</th>\n",
       "      <th>1965</th>\n",
       "      <th>1966</th>\n",
       "      <th>1967</th>\n",
       "      <th>1968</th>\n",
       "      <th>1969</th>\n",
       "      <th>...</th>\n",
       "      <th>2004</th>\n",
       "      <th>2005</th>\n",
       "      <th>2006</th>\n",
       "      <th>2007</th>\n",
       "      <th>2008</th>\n",
       "      <th>2009</th>\n",
       "      <th>2010</th>\n",
       "      <th>2011</th>\n",
       "      <th>2012</th>\n",
       "      <th>2013</th>\n",
       "    </tr>\n",
       "    <tr>\n",
       "      <th>CountryName</th>\n",
       "      <th></th>\n",
       "      <th></th>\n",
       "      <th></th>\n",
       "      <th></th>\n",
       "      <th></th>\n",
       "      <th></th>\n",
       "      <th></th>\n",
       "      <th></th>\n",
       "      <th></th>\n",
       "      <th></th>\n",
       "      <th></th>\n",
       "      <th></th>\n",
       "      <th></th>\n",
       "      <th></th>\n",
       "      <th></th>\n",
       "      <th></th>\n",
       "      <th></th>\n",
       "      <th></th>\n",
       "      <th></th>\n",
       "      <th></th>\n",
       "      <th></th>\n",
       "    </tr>\n",
       "  </thead>\n",
       "  <tbody>\n",
       "    <tr>\n",
       "      <th>Aruba</th>\n",
       "      <td>4.820</td>\n",
       "      <td>4.655</td>\n",
       "      <td>4.471</td>\n",
       "      <td>4.271</td>\n",
       "      <td>4.059</td>\n",
       "      <td>3.842</td>\n",
       "      <td>3.625</td>\n",
       "      <td>3.417</td>\n",
       "      <td>3.226</td>\n",
       "      <td>3.054</td>\n",
       "      <td>...</td>\n",
       "      <td>1.786</td>\n",
       "      <td>1.769</td>\n",
       "      <td>1.754</td>\n",
       "      <td>1.739</td>\n",
       "      <td>1.726</td>\n",
       "      <td>1.713</td>\n",
       "      <td>1.701</td>\n",
       "      <td>1.690</td>\n",
       "      <td>NaN</td>\n",
       "      <td>NaN</td>\n",
       "    </tr>\n",
       "    <tr>\n",
       "      <th>Andorra</th>\n",
       "      <td>NaN</td>\n",
       "      <td>NaN</td>\n",
       "      <td>NaN</td>\n",
       "      <td>NaN</td>\n",
       "      <td>NaN</td>\n",
       "      <td>NaN</td>\n",
       "      <td>NaN</td>\n",
       "      <td>NaN</td>\n",
       "      <td>NaN</td>\n",
       "      <td>NaN</td>\n",
       "      <td>...</td>\n",
       "      <td>NaN</td>\n",
       "      <td>NaN</td>\n",
       "      <td>1.240</td>\n",
       "      <td>1.180</td>\n",
       "      <td>1.250</td>\n",
       "      <td>1.190</td>\n",
       "      <td>1.220</td>\n",
       "      <td>NaN</td>\n",
       "      <td>NaN</td>\n",
       "      <td>NaN</td>\n",
       "    </tr>\n",
       "    <tr>\n",
       "      <th>Afghanistan</th>\n",
       "      <td>7.671</td>\n",
       "      <td>7.671</td>\n",
       "      <td>7.671</td>\n",
       "      <td>7.671</td>\n",
       "      <td>7.671</td>\n",
       "      <td>7.671</td>\n",
       "      <td>7.671</td>\n",
       "      <td>7.671</td>\n",
       "      <td>7.671</td>\n",
       "      <td>7.671</td>\n",
       "      <td>...</td>\n",
       "      <td>7.136</td>\n",
       "      <td>6.930</td>\n",
       "      <td>6.702</td>\n",
       "      <td>6.456</td>\n",
       "      <td>6.196</td>\n",
       "      <td>5.928</td>\n",
       "      <td>5.659</td>\n",
       "      <td>5.395</td>\n",
       "      <td>NaN</td>\n",
       "      <td>NaN</td>\n",
       "    </tr>\n",
       "    <tr>\n",
       "      <th>Angola</th>\n",
       "      <td>7.316</td>\n",
       "      <td>7.354</td>\n",
       "      <td>7.385</td>\n",
       "      <td>7.410</td>\n",
       "      <td>7.425</td>\n",
       "      <td>7.430</td>\n",
       "      <td>7.422</td>\n",
       "      <td>7.403</td>\n",
       "      <td>7.375</td>\n",
       "      <td>7.339</td>\n",
       "      <td>...</td>\n",
       "      <td>6.704</td>\n",
       "      <td>6.657</td>\n",
       "      <td>6.598</td>\n",
       "      <td>6.523</td>\n",
       "      <td>6.434</td>\n",
       "      <td>6.331</td>\n",
       "      <td>6.218</td>\n",
       "      <td>6.099</td>\n",
       "      <td>NaN</td>\n",
       "      <td>NaN</td>\n",
       "    </tr>\n",
       "    <tr>\n",
       "      <th>Albania</th>\n",
       "      <td>6.186</td>\n",
       "      <td>6.076</td>\n",
       "      <td>5.956</td>\n",
       "      <td>5.833</td>\n",
       "      <td>5.711</td>\n",
       "      <td>5.594</td>\n",
       "      <td>5.483</td>\n",
       "      <td>5.376</td>\n",
       "      <td>5.268</td>\n",
       "      <td>5.160</td>\n",
       "      <td>...</td>\n",
       "      <td>2.004</td>\n",
       "      <td>1.919</td>\n",
       "      <td>1.849</td>\n",
       "      <td>1.796</td>\n",
       "      <td>1.761</td>\n",
       "      <td>1.744</td>\n",
       "      <td>1.741</td>\n",
       "      <td>1.748</td>\n",
       "      <td>NaN</td>\n",
       "      <td>NaN</td>\n",
       "    </tr>\n",
       "  </tbody>\n",
       "</table>\n",
       "<p>5 rows × 54 columns</p>\n",
       "</div>"
      ],
      "text/plain": [
       "Year          1960   1961   1962   1963   1964   1965   1966   1967   1968  \\\n",
       "CountryName                                                                  \n",
       "Aruba        4.820  4.655  4.471  4.271  4.059  3.842  3.625  3.417  3.226   \n",
       "Andorra        NaN    NaN    NaN    NaN    NaN    NaN    NaN    NaN    NaN   \n",
       "Afghanistan  7.671  7.671  7.671  7.671  7.671  7.671  7.671  7.671  7.671   \n",
       "Angola       7.316  7.354  7.385  7.410  7.425  7.430  7.422  7.403  7.375   \n",
       "Albania      6.186  6.076  5.956  5.833  5.711  5.594  5.483  5.376  5.268   \n",
       "\n",
       "Year          1969  ...    2004   2005   2006   2007   2008   2009   2010  \\\n",
       "CountryName         ...                                                     \n",
       "Aruba        3.054  ...   1.786  1.769  1.754  1.739  1.726  1.713  1.701   \n",
       "Andorra        NaN  ...     NaN    NaN  1.240  1.180  1.250  1.190  1.220   \n",
       "Afghanistan  7.671  ...   7.136  6.930  6.702  6.456  6.196  5.928  5.659   \n",
       "Angola       7.339  ...   6.704  6.657  6.598  6.523  6.434  6.331  6.218   \n",
       "Albania      5.160  ...   2.004  1.919  1.849  1.796  1.761  1.744  1.741   \n",
       "\n",
       "Year          2011  2012  2013  \n",
       "CountryName                     \n",
       "Aruba        1.690   NaN   NaN  \n",
       "Andorra        NaN   NaN   NaN  \n",
       "Afghanistan  5.395   NaN   NaN  \n",
       "Angola       6.099   NaN   NaN  \n",
       "Albania      1.748   NaN   NaN  \n",
       "\n",
       "[5 rows x 54 columns]"
      ]
     },
     "execution_count": 12,
     "metadata": {},
     "output_type": "execute_result"
    }
   ],
   "source": [
    "for col in ['CountryCode', 'IndicatorName', 'IndicatorCode']:\n",
    "    del df2[col]\n",
    "df2.set_index('CountryName', inplace=True)\n",
    "df2.columns.name = 'Year'\n",
    "df2.head()"
   ]
  },
  {
   "cell_type": "code",
   "execution_count": 13,
   "metadata": {},
   "outputs": [
    {
     "data": {
      "text/plain": [
       "(0, 2.605)"
      ]
     },
     "execution_count": 13,
     "metadata": {},
     "output_type": "execute_result"
    },
    {
     "data": {
      "image/png": "[encoded data removed]",
      "text/plain": [
       "<matplotlib.figure.Figure at 0x1126eba58>"
      ]
     },
     "metadata": {},
     "output_type": "display_data"
    }
   ],
   "source": [
    "ax = df2.loc['Germany'].plot()\n",
    "ax.set_ylim(0, ax.get_ylim()[1])"
   ]
  },
  {
   "cell_type": "markdown",
   "metadata": {
    "slideshow": {
     "slide_type": "slide"
    }
   },
   "source": [
    "## Question: How Has Germany's Fertility Rate Changed over Time?"
   ]
  },
  {
   "cell_type": "markdown",
   "metadata": {
    "slideshow": {
     "slide_type": "subslide"
    }
   },
   "source": [
    "### Minor Note:  Handling NaNs"
   ]
  },
  {
   "cell_type": "code",
   "execution_count": 109,
   "metadata": {
    "collapsed": true
   },
   "outputs": [],
   "source": [
    "df2 = df2.T.iloc[:-3].T\n",
    "df2.fillna(method='bfill', limit=3, axis=1, inplace=True)\n",
    "df2.dropna(inplace=True)"
   ]
  },
  {
   "cell_type": "code",
   "execution_count": 111,
   "metadata": {},
   "outputs": [
    {
     "data": {
      "text/html": [
       "<div>\n",
       "<style>\n",
       "    .dataframe thead tr:only-child th {\n",
       "        text-align: right;\n",
       "    }\n",
       "\n",
       "    .dataframe thead th {\n",
       "        text-align: left;\n",
       "    }\n",
       "\n",
       "    .dataframe tbody tr th {\n",
       "        vertical-align: top;\n",
       "    }\n",
       "</style>\n",
       "<table border=\"1\" class=\"dataframe\">\n",
       "  <thead>\n",
       "    <tr style=\"text-align: right;\">\n",
       "      <th>Year</th>\n",
       "      <th>1960</th>\n",
       "      <th>1961</th>\n",
       "      <th>1962</th>\n",
       "      <th>1963</th>\n",
       "      <th>1964</th>\n",
       "      <th>1965</th>\n",
       "      <th>1966</th>\n",
       "      <th>1967</th>\n",
       "      <th>1968</th>\n",
       "      <th>1969</th>\n",
       "      <th>...</th>\n",
       "      <th>2001</th>\n",
       "      <th>2002</th>\n",
       "      <th>2003</th>\n",
       "      <th>2004</th>\n",
       "      <th>2005</th>\n",
       "      <th>2006</th>\n",
       "      <th>2007</th>\n",
       "      <th>2008</th>\n",
       "      <th>2009</th>\n",
       "      <th>2010</th>\n",
       "    </tr>\n",
       "    <tr>\n",
       "      <th>CountryName</th>\n",
       "      <th></th>\n",
       "      <th></th>\n",
       "      <th></th>\n",
       "      <th></th>\n",
       "      <th></th>\n",
       "      <th></th>\n",
       "      <th></th>\n",
       "      <th></th>\n",
       "      <th></th>\n",
       "      <th></th>\n",
       "      <th></th>\n",
       "      <th></th>\n",
       "      <th></th>\n",
       "      <th></th>\n",
       "      <th></th>\n",
       "      <th></th>\n",
       "      <th></th>\n",
       "      <th></th>\n",
       "      <th></th>\n",
       "      <th></th>\n",
       "      <th></th>\n",
       "    </tr>\n",
       "  </thead>\n",
       "  <tbody>\n",
       "    <tr>\n",
       "      <th>Aruba</th>\n",
       "      <td>4.820</td>\n",
       "      <td>4.655</td>\n",
       "      <td>4.471</td>\n",
       "      <td>4.271</td>\n",
       "      <td>4.059</td>\n",
       "      <td>3.842</td>\n",
       "      <td>3.625</td>\n",
       "      <td>3.417</td>\n",
       "      <td>3.226</td>\n",
       "      <td>3.054</td>\n",
       "      <td>...</td>\n",
       "      <td>1.848</td>\n",
       "      <td>1.825</td>\n",
       "      <td>1.805</td>\n",
       "      <td>1.786</td>\n",
       "      <td>1.769</td>\n",
       "      <td>1.754</td>\n",
       "      <td>1.739</td>\n",
       "      <td>1.726</td>\n",
       "      <td>1.713</td>\n",
       "      <td>1.701</td>\n",
       "    </tr>\n",
       "    <tr>\n",
       "      <th>Afghanistan</th>\n",
       "      <td>7.671</td>\n",
       "      <td>7.671</td>\n",
       "      <td>7.671</td>\n",
       "      <td>7.671</td>\n",
       "      <td>7.671</td>\n",
       "      <td>7.671</td>\n",
       "      <td>7.671</td>\n",
       "      <td>7.671</td>\n",
       "      <td>7.671</td>\n",
       "      <td>7.671</td>\n",
       "      <td>...</td>\n",
       "      <td>7.623</td>\n",
       "      <td>7.484</td>\n",
       "      <td>7.321</td>\n",
       "      <td>7.136</td>\n",
       "      <td>6.930</td>\n",
       "      <td>6.702</td>\n",
       "      <td>6.456</td>\n",
       "      <td>6.196</td>\n",
       "      <td>5.928</td>\n",
       "      <td>5.659</td>\n",
       "    </tr>\n",
       "    <tr>\n",
       "      <th>Angola</th>\n",
       "      <td>7.316</td>\n",
       "      <td>7.354</td>\n",
       "      <td>7.385</td>\n",
       "      <td>7.410</td>\n",
       "      <td>7.425</td>\n",
       "      <td>7.430</td>\n",
       "      <td>7.422</td>\n",
       "      <td>7.403</td>\n",
       "      <td>7.375</td>\n",
       "      <td>7.339</td>\n",
       "      <td>...</td>\n",
       "      <td>6.811</td>\n",
       "      <td>6.778</td>\n",
       "      <td>6.743</td>\n",
       "      <td>6.704</td>\n",
       "      <td>6.657</td>\n",
       "      <td>6.598</td>\n",
       "      <td>6.523</td>\n",
       "      <td>6.434</td>\n",
       "      <td>6.331</td>\n",
       "      <td>6.218</td>\n",
       "    </tr>\n",
       "    <tr>\n",
       "      <th>Albania</th>\n",
       "      <td>6.186</td>\n",
       "      <td>6.076</td>\n",
       "      <td>5.956</td>\n",
       "      <td>5.833</td>\n",
       "      <td>5.711</td>\n",
       "      <td>5.594</td>\n",
       "      <td>5.483</td>\n",
       "      <td>5.376</td>\n",
       "      <td>5.268</td>\n",
       "      <td>5.160</td>\n",
       "      <td>...</td>\n",
       "      <td>2.291</td>\n",
       "      <td>2.195</td>\n",
       "      <td>2.097</td>\n",
       "      <td>2.004</td>\n",
       "      <td>1.919</td>\n",
       "      <td>1.849</td>\n",
       "      <td>1.796</td>\n",
       "      <td>1.761</td>\n",
       "      <td>1.744</td>\n",
       "      <td>1.741</td>\n",
       "    </tr>\n",
       "    <tr>\n",
       "      <th>United Arab Emirates</th>\n",
       "      <td>6.928</td>\n",
       "      <td>6.910</td>\n",
       "      <td>6.893</td>\n",
       "      <td>6.877</td>\n",
       "      <td>6.861</td>\n",
       "      <td>6.841</td>\n",
       "      <td>6.816</td>\n",
       "      <td>6.783</td>\n",
       "      <td>6.738</td>\n",
       "      <td>6.679</td>\n",
       "      <td>...</td>\n",
       "      <td>2.532</td>\n",
       "      <td>2.428</td>\n",
       "      <td>2.329</td>\n",
       "      <td>2.236</td>\n",
       "      <td>2.149</td>\n",
       "      <td>2.071</td>\n",
       "      <td>2.004</td>\n",
       "      <td>1.948</td>\n",
       "      <td>1.903</td>\n",
       "      <td>1.868</td>\n",
       "    </tr>\n",
       "  </tbody>\n",
       "</table>\n",
       "<p>5 rows × 51 columns</p>\n",
       "</div>"
      ],
      "text/plain": [
       "Year                   1960   1961   1962   1963   1964   1965   1966   1967  \\\n",
       "CountryName                                                                    \n",
       "Aruba                 4.820  4.655  4.471  4.271  4.059  3.842  3.625  3.417   \n",
       "Afghanistan           7.671  7.671  7.671  7.671  7.671  7.671  7.671  7.671   \n",
       "Angola                7.316  7.354  7.385  7.410  7.425  7.430  7.422  7.403   \n",
       "Albania               6.186  6.076  5.956  5.833  5.711  5.594  5.483  5.376   \n",
       "United Arab Emirates  6.928  6.910  6.893  6.877  6.861  6.841  6.816  6.783   \n",
       "\n",
       "Year                   1968   1969  ...     2001   2002   2003   2004   2005  \\\n",
       "CountryName                         ...                                        \n",
       "Aruba                 3.226  3.054  ...    1.848  1.825  1.805  1.786  1.769   \n",
       "Afghanistan           7.671  7.671  ...    7.623  7.484  7.321  7.136  6.930   \n",
       "Angola                7.375  7.339  ...    6.811  6.778  6.743  6.704  6.657   \n",
       "Albania               5.268  5.160  ...    2.291  2.195  2.097  2.004  1.919   \n",
       "United Arab Emirates  6.738  6.679  ...    2.532  2.428  2.329  2.236  2.149   \n",
       "\n",
       "Year                   2006   2007   2008   2009   2010  \n",
       "CountryName                                              \n",
       "Aruba                 1.754  1.739  1.726  1.713  1.701  \n",
       "Afghanistan           6.702  6.456  6.196  5.928  5.659  \n",
       "Angola                6.598  6.523  6.434  6.331  6.218  \n",
       "Albania               1.849  1.796  1.761  1.744  1.741  \n",
       "United Arab Emirates  2.071  2.004  1.948  1.903  1.868  \n",
       "\n",
       "[5 rows x 51 columns]"
      ]
     },
     "execution_count": 111,
     "metadata": {},
     "output_type": "execute_result"
    }
   ],
   "source": [
    "df2.head()"
   ]
  },
  {
   "cell_type": "markdown",
   "metadata": {
    "slideshow": {
     "slide_type": "slide"
    }
   },
   "source": [
    "## Low-Level Approach: Pull Data Out to NumPy, then Analyze with Matplotlib"
   ]
  },
  {
   "cell_type": "code",
   "execution_count": 123,
   "metadata": {},
   "outputs": [
    {
     "data": {
      "text/plain": [
       "<matplotlib.text.Text at 0x7fcb01badb00>"
      ]
     },
     "execution_count": 123,
     "metadata": {},
     "output_type": "execute_result"
    },
    {
     "data": {
      "image/png": "[encoded data removed]",
      "text/plain": [
       "<matplotlib.figure.Figure at 0x7fcb01c485f8>"
      ]
     },
     "metadata": {},
     "output_type": "display_data"
    }
   ],
   "source": [
    "df3 = df2.reset_index()\n",
    "germany = df3[df3['CountryName'] == 'Germany']\n",
    "frate = germany.values[0, 1:]\n",
    "years = germany.columns[1:].astype(int)\n",
    "plt.plot(years, frate)\n",
    "plt.xlabel('Year')\n",
    "plt.ylabel('')\n",
    "# df2.head()"
   ]
  },
  {
   "cell_type": "markdown",
   "metadata": {
    "slideshow": {
     "slide_type": "subslide"
    }
   },
   "source": [
    "# Pandas Approach: Reshape and Delete to New Wide Table\n",
    "Goal: Get Columns Labeled as Country Names, and Rows labeled as Years"
   ]
  },
  {
   "cell_type": "code",
   "execution_count": 14,
   "metadata": {},
   "outputs": [
    {
     "data": {
      "text/plain": [
       "<matplotlib.axes._subplots.AxesSubplot at 0x1128087f0>"
      ]
     },
     "execution_count": 14,
     "metadata": {},
     "output_type": "execute_result"
    },
    {
     "data": {
      "image/png": "[encoded data removed]",
      "text/plain": [
       "<matplotlib.figure.Figure at 0x11281a2e8>"
      ]
     },
     "metadata": {},
     "output_type": "display_data"
    }
   ],
   "source": [
    "df2.loc['United States'].plot()"
   ]
  },
  {
   "cell_type": "code",
   "execution_count": 15,
   "metadata": {},
   "outputs": [
    {
     "data": {
      "image/png": "[encoded data removed]",
      "text/plain": [
       "<matplotlib.figure.Figure at 0x112c5bc18>"
      ]
     },
     "metadata": {},
     "output_type": "display_data"
    }
   ],
   "source": [
    "df2.hist();"
   ]
  },
  {
   "cell_type": "markdown",
   "metadata": {},
   "source": [
    "# New Question: How has each Continent's Fertility Changed over Time?\n",
    "**Problem**: I don't know the Continent name of every country. :-(\n",
    "**Solution**: Look for Data online!"
   ]
  },
  {
   "cell_type": "code",
   "execution_count": 132,
   "metadata": {},
   "outputs": [
    {
     "data": {
      "text/html": [
       "\n",
       "        <iframe\n",
       "            width=\"1000\"\n",
       "            height=\"600\"\n",
       "            src=\"http://techslides.com/list-of-countries-and-capitals\"\n",
       "            frameborder=\"0\"\n",
       "            allowfullscreen\n",
       "        ></iframe>\n",
       "        "
      ],
      "text/plain": [
       "<IPython.lib.display.IFrame at 0x7fcafa888ef0>"
      ]
     },
     "execution_count": 132,
     "metadata": {},
     "output_type": "execute_result"
    }
   ],
   "source": [
    "IFrame('http://techslides.com/list-of-countries-and-capitals', width=1000, height=600)"
   ]
  },
  {
   "cell_type": "markdown",
   "metadata": {},
   "source": [
    "## Using Pandas to Scrape HTML Tables from Web Sites"
   ]
  },
  {
   "cell_type": "code",
   "execution_count": 133,
   "metadata": {},
   "outputs": [
    {
     "data": {
      "text/html": [
       "<div>\n",
       "<style>\n",
       "    .dataframe thead tr:only-child th {\n",
       "        text-align: right;\n",
       "    }\n",
       "\n",
       "    .dataframe thead th {\n",
       "        text-align: left;\n",
       "    }\n",
       "\n",
       "    .dataframe tbody tr th {\n",
       "        vertical-align: top;\n",
       "    }\n",
       "</style>\n",
       "<table border=\"1\" class=\"dataframe\">\n",
       "  <thead>\n",
       "    <tr style=\"text-align: right;\">\n",
       "      <th></th>\n",
       "      <th>Capital Name</th>\n",
       "      <th>Capital Latitude</th>\n",
       "      <th>Capital Longitude</th>\n",
       "      <th>Country Code</th>\n",
       "      <th>Continent Name</th>\n",
       "    </tr>\n",
       "    <tr>\n",
       "      <th>Country Name</th>\n",
       "      <th></th>\n",
       "      <th></th>\n",
       "      <th></th>\n",
       "      <th></th>\n",
       "      <th></th>\n",
       "    </tr>\n",
       "  </thead>\n",
       "  <tbody>\n",
       "    <tr>\n",
       "      <th>Afghanistan</th>\n",
       "      <td>Kabul</td>\n",
       "      <td>34.516667</td>\n",
       "      <td>69.183333</td>\n",
       "      <td>AF</td>\n",
       "      <td>Asia</td>\n",
       "    </tr>\n",
       "    <tr>\n",
       "      <th>Aland Islands</th>\n",
       "      <td>Mariehamn</td>\n",
       "      <td>60.116667</td>\n",
       "      <td>19.900000</td>\n",
       "      <td>AX</td>\n",
       "      <td>Europe</td>\n",
       "    </tr>\n",
       "    <tr>\n",
       "      <th>Albania</th>\n",
       "      <td>Tirana</td>\n",
       "      <td>41.316667</td>\n",
       "      <td>19.816667</td>\n",
       "      <td>AL</td>\n",
       "      <td>Europe</td>\n",
       "    </tr>\n",
       "    <tr>\n",
       "      <th>Algeria</th>\n",
       "      <td>Algiers</td>\n",
       "      <td>36.750000</td>\n",
       "      <td>3.050000</td>\n",
       "      <td>DZ</td>\n",
       "      <td>Africa</td>\n",
       "    </tr>\n",
       "    <tr>\n",
       "      <th>American Samoa</th>\n",
       "      <td>Pago Pago</td>\n",
       "      <td>-14.266667</td>\n",
       "      <td>-170.700000</td>\n",
       "      <td>AS</td>\n",
       "      <td>Australia</td>\n",
       "    </tr>\n",
       "  </tbody>\n",
       "</table>\n",
       "</div>"
      ],
      "text/plain": [
       "               Capital Name  Capital Latitude  Capital Longitude Country Code  \\\n",
       "Country Name                                                                    \n",
       "Afghanistan           Kabul         34.516667          69.183333           AF   \n",
       "Aland Islands     Mariehamn         60.116667          19.900000           AX   \n",
       "Albania              Tirana         41.316667          19.816667           AL   \n",
       "Algeria             Algiers         36.750000           3.050000           DZ   \n",
       "American Samoa    Pago Pago        -14.266667        -170.700000           AS   \n",
       "\n",
       "               Continent Name  \n",
       "Country Name                   \n",
       "Afghanistan              Asia  \n",
       "Aland Islands          Europe  \n",
       "Albania                Europe  \n",
       "Algeria                Africa  \n",
       "American Samoa      Australia  "
      ]
     },
     "execution_count": 133,
     "metadata": {},
     "output_type": "execute_result"
    }
   ],
   "source": [
    "countries = pd.read_html('http://techslides.com/list-of-countries-and-capitals', header=0)[0].set_index('Country Name')\n",
    "countries.head()"
   ]
  },
  {
   "cell_type": "markdown",
   "metadata": {},
   "source": [
    "# Problem: Where Should the Data Go?\n",
    "How do we cleanly associate our variables (Country, Continent, and our Years) in a 2D Structure?"
   ]
  },
  {
   "cell_type": "code",
   "execution_count": 134,
   "metadata": {},
   "outputs": [
    {
     "data": {
      "text/html": [
       "<div>\n",
       "<style>\n",
       "    .dataframe thead tr:only-child th {\n",
       "        text-align: right;\n",
       "    }\n",
       "\n",
       "    .dataframe thead th {\n",
       "        text-align: left;\n",
       "    }\n",
       "\n",
       "    .dataframe tbody tr th {\n",
       "        vertical-align: top;\n",
       "    }\n",
       "</style>\n",
       "<table border=\"1\" class=\"dataframe\">\n",
       "  <thead>\n",
       "    <tr style=\"text-align: right;\">\n",
       "      <th>Year</th>\n",
       "      <th>1960</th>\n",
       "      <th>1961</th>\n",
       "      <th>1962</th>\n",
       "      <th>1963</th>\n",
       "      <th>1964</th>\n",
       "      <th>1965</th>\n",
       "      <th>1966</th>\n",
       "      <th>1967</th>\n",
       "      <th>1968</th>\n",
       "      <th>1969</th>\n",
       "      <th>...</th>\n",
       "      <th>2001</th>\n",
       "      <th>2002</th>\n",
       "      <th>2003</th>\n",
       "      <th>2004</th>\n",
       "      <th>2005</th>\n",
       "      <th>2006</th>\n",
       "      <th>2007</th>\n",
       "      <th>2008</th>\n",
       "      <th>2009</th>\n",
       "      <th>2010</th>\n",
       "    </tr>\n",
       "    <tr>\n",
       "      <th>CountryName</th>\n",
       "      <th></th>\n",
       "      <th></th>\n",
       "      <th></th>\n",
       "      <th></th>\n",
       "      <th></th>\n",
       "      <th></th>\n",
       "      <th></th>\n",
       "      <th></th>\n",
       "      <th></th>\n",
       "      <th></th>\n",
       "      <th></th>\n",
       "      <th></th>\n",
       "      <th></th>\n",
       "      <th></th>\n",
       "      <th></th>\n",
       "      <th></th>\n",
       "      <th></th>\n",
       "      <th></th>\n",
       "      <th></th>\n",
       "      <th></th>\n",
       "      <th></th>\n",
       "    </tr>\n",
       "  </thead>\n",
       "  <tbody>\n",
       "    <tr>\n",
       "      <th>Aruba</th>\n",
       "      <td>4.820</td>\n",
       "      <td>4.655</td>\n",
       "      <td>4.471</td>\n",
       "      <td>4.271</td>\n",
       "      <td>4.059</td>\n",
       "      <td>3.842</td>\n",
       "      <td>3.625</td>\n",
       "      <td>3.417</td>\n",
       "      <td>3.226</td>\n",
       "      <td>3.054</td>\n",
       "      <td>...</td>\n",
       "      <td>1.848</td>\n",
       "      <td>1.825</td>\n",
       "      <td>1.805</td>\n",
       "      <td>1.786</td>\n",
       "      <td>1.769</td>\n",
       "      <td>1.754</td>\n",
       "      <td>1.739</td>\n",
       "      <td>1.726</td>\n",
       "      <td>1.713</td>\n",
       "      <td>1.701</td>\n",
       "    </tr>\n",
       "    <tr>\n",
       "      <th>Afghanistan</th>\n",
       "      <td>7.671</td>\n",
       "      <td>7.671</td>\n",
       "      <td>7.671</td>\n",
       "      <td>7.671</td>\n",
       "      <td>7.671</td>\n",
       "      <td>7.671</td>\n",
       "      <td>7.671</td>\n",
       "      <td>7.671</td>\n",
       "      <td>7.671</td>\n",
       "      <td>7.671</td>\n",
       "      <td>...</td>\n",
       "      <td>7.623</td>\n",
       "      <td>7.484</td>\n",
       "      <td>7.321</td>\n",
       "      <td>7.136</td>\n",
       "      <td>6.930</td>\n",
       "      <td>6.702</td>\n",
       "      <td>6.456</td>\n",
       "      <td>6.196</td>\n",
       "      <td>5.928</td>\n",
       "      <td>5.659</td>\n",
       "    </tr>\n",
       "    <tr>\n",
       "      <th>Angola</th>\n",
       "      <td>7.316</td>\n",
       "      <td>7.354</td>\n",
       "      <td>7.385</td>\n",
       "      <td>7.410</td>\n",
       "      <td>7.425</td>\n",
       "      <td>7.430</td>\n",
       "      <td>7.422</td>\n",
       "      <td>7.403</td>\n",
       "      <td>7.375</td>\n",
       "      <td>7.339</td>\n",
       "      <td>...</td>\n",
       "      <td>6.811</td>\n",
       "      <td>6.778</td>\n",
       "      <td>6.743</td>\n",
       "      <td>6.704</td>\n",
       "      <td>6.657</td>\n",
       "      <td>6.598</td>\n",
       "      <td>6.523</td>\n",
       "      <td>6.434</td>\n",
       "      <td>6.331</td>\n",
       "      <td>6.218</td>\n",
       "    </tr>\n",
       "    <tr>\n",
       "      <th>Albania</th>\n",
       "      <td>6.186</td>\n",
       "      <td>6.076</td>\n",
       "      <td>5.956</td>\n",
       "      <td>5.833</td>\n",
       "      <td>5.711</td>\n",
       "      <td>5.594</td>\n",
       "      <td>5.483</td>\n",
       "      <td>5.376</td>\n",
       "      <td>5.268</td>\n",
       "      <td>5.160</td>\n",
       "      <td>...</td>\n",
       "      <td>2.291</td>\n",
       "      <td>2.195</td>\n",
       "      <td>2.097</td>\n",
       "      <td>2.004</td>\n",
       "      <td>1.919</td>\n",
       "      <td>1.849</td>\n",
       "      <td>1.796</td>\n",
       "      <td>1.761</td>\n",
       "      <td>1.744</td>\n",
       "      <td>1.741</td>\n",
       "    </tr>\n",
       "    <tr>\n",
       "      <th>United Arab Emirates</th>\n",
       "      <td>6.928</td>\n",
       "      <td>6.910</td>\n",
       "      <td>6.893</td>\n",
       "      <td>6.877</td>\n",
       "      <td>6.861</td>\n",
       "      <td>6.841</td>\n",
       "      <td>6.816</td>\n",
       "      <td>6.783</td>\n",
       "      <td>6.738</td>\n",
       "      <td>6.679</td>\n",
       "      <td>...</td>\n",
       "      <td>2.532</td>\n",
       "      <td>2.428</td>\n",
       "      <td>2.329</td>\n",
       "      <td>2.236</td>\n",
       "      <td>2.149</td>\n",
       "      <td>2.071</td>\n",
       "      <td>2.004</td>\n",
       "      <td>1.948</td>\n",
       "      <td>1.903</td>\n",
       "      <td>1.868</td>\n",
       "    </tr>\n",
       "  </tbody>\n",
       "</table>\n",
       "<p>5 rows × 51 columns</p>\n",
       "</div>"
      ],
      "text/plain": [
       "Year                   1960   1961   1962   1963   1964   1965   1966   1967  \\\n",
       "CountryName                                                                    \n",
       "Aruba                 4.820  4.655  4.471  4.271  4.059  3.842  3.625  3.417   \n",
       "Afghanistan           7.671  7.671  7.671  7.671  7.671  7.671  7.671  7.671   \n",
       "Angola                7.316  7.354  7.385  7.410  7.425  7.430  7.422  7.403   \n",
       "Albania               6.186  6.076  5.956  5.833  5.711  5.594  5.483  5.376   \n",
       "United Arab Emirates  6.928  6.910  6.893  6.877  6.861  6.841  6.816  6.783   \n",
       "\n",
       "Year                   1968   1969  ...     2001   2002   2003   2004   2005  \\\n",
       "CountryName                         ...                                        \n",
       "Aruba                 3.226  3.054  ...    1.848  1.825  1.805  1.786  1.769   \n",
       "Afghanistan           7.671  7.671  ...    7.623  7.484  7.321  7.136  6.930   \n",
       "Angola                7.375  7.339  ...    6.811  6.778  6.743  6.704  6.657   \n",
       "Albania               5.268  5.160  ...    2.291  2.195  2.097  2.004  1.919   \n",
       "United Arab Emirates  6.738  6.679  ...    2.532  2.428  2.329  2.236  2.149   \n",
       "\n",
       "Year                   2006   2007   2008   2009   2010  \n",
       "CountryName                                              \n",
       "Aruba                 1.754  1.739  1.726  1.713  1.701  \n",
       "Afghanistan           6.702  6.456  6.196  5.928  5.659  \n",
       "Angola                6.598  6.523  6.434  6.331  6.218  \n",
       "Albania               1.849  1.796  1.761  1.744  1.741  \n",
       "United Arab Emirates  2.071  2.004  1.948  1.903  1.868  \n",
       "\n",
       "[5 rows x 51 columns]"
      ]
     },
     "execution_count": 134,
     "metadata": {},
     "output_type": "execute_result"
    }
   ],
   "source": [
    "df2.head()"
   ]
  },
  {
   "cell_type": "markdown",
   "metadata": {},
   "source": [
    "## Our Options: Long Variable Names, Panels, MultiIndexing, or Long DataFrames\n",
    " \n",
    "  - **Long Variable Names**: \"Europe_Germany\".  Ugly.\n",
    "  - **Panel**: a 3D version of DataFrame.  However, it has been Deprecated.\n",
    "  - **MultiIndex**: Allows multiple nesting of columns. Works, but not fully supported--it's a bit finicky in practice.\n",
    "  - **Long DataFrames**: Clean, Simple to Use, and Scalable!\n",
    "  "
   ]
  },
  {
   "cell_type": "code",
   "execution_count": 140,
   "metadata": {},
   "outputs": [
    {
     "data": {
      "text/html": [
       "<div>\n",
       "<style>\n",
       "    .dataframe thead tr:only-child th {\n",
       "        text-align: right;\n",
       "    }\n",
       "\n",
       "    .dataframe thead th {\n",
       "        text-align: left;\n",
       "    }\n",
       "\n",
       "    .dataframe tbody tr th {\n",
       "        vertical-align: top;\n",
       "    }\n",
       "</style>\n",
       "<table border=\"1\" class=\"dataframe\">\n",
       "  <thead>\n",
       "    <tr style=\"text-align: right;\">\n",
       "      <th></th>\n",
       "      <th>CountryName</th>\n",
       "      <th>Year</th>\n",
       "      <th>FertilityRate</th>\n",
       "    </tr>\n",
       "  </thead>\n",
       "  <tbody>\n",
       "    <tr>\n",
       "      <th>0</th>\n",
       "      <td>Aruba</td>\n",
       "      <td>1960</td>\n",
       "      <td>4.820</td>\n",
       "    </tr>\n",
       "    <tr>\n",
       "      <th>1</th>\n",
       "      <td>Afghanistan</td>\n",
       "      <td>1960</td>\n",
       "      <td>7.671</td>\n",
       "    </tr>\n",
       "    <tr>\n",
       "      <th>2</th>\n",
       "      <td>Angola</td>\n",
       "      <td>1960</td>\n",
       "      <td>7.316</td>\n",
       "    </tr>\n",
       "    <tr>\n",
       "      <th>3</th>\n",
       "      <td>Albania</td>\n",
       "      <td>1960</td>\n",
       "      <td>6.186</td>\n",
       "    </tr>\n",
       "    <tr>\n",
       "      <th>4</th>\n",
       "      <td>United Arab Emirates</td>\n",
       "      <td>1960</td>\n",
       "      <td>6.928</td>\n",
       "    </tr>\n",
       "  </tbody>\n",
       "</table>\n",
       "</div>"
      ],
      "text/plain": [
       "            CountryName  Year  FertilityRate\n",
       "0                 Aruba  1960          4.820\n",
       "1           Afghanistan  1960          7.671\n",
       "2                Angola  1960          7.316\n",
       "3               Albania  1960          6.186\n",
       "4  United Arab Emirates  1960          6.928"
      ]
     },
     "execution_count": 140,
     "metadata": {},
     "output_type": "execute_result"
    }
   ],
   "source": [
    "df3 = df2.reset_index()\n",
    "dfl = df3.melt(id_vars=['CountryName'], var_name='Year', value_name='FertilityRate', \n",
    "         value_vars=[col for col in df3.columns if col.isdigit()])\n",
    "dfl.head()"
   ]
  },
  {
   "cell_type": "markdown",
   "metadata": {},
   "source": [
    "## Grouping Data using Dataframe.groupby()"
   ]
  },
  {
   "cell_type": "code",
   "execution_count": 144,
   "metadata": {},
   "outputs": [
    {
     "data": {
      "text/plain": [
       "Year\n",
       "1960    5.511814\n",
       "1961    5.506021\n",
       "1962    5.491603\n",
       "1963    5.471747\n",
       "1964    5.441701\n",
       "Name: FertilityRate, dtype: float64"
      ]
     },
     "execution_count": 144,
     "metadata": {},
     "output_type": "execute_result"
    }
   ],
   "source": [
    "dfl.groupby('Year').FertilityRate.mean().head()"
   ]
  },
  {
   "cell_type": "markdown",
   "metadata": {},
   "source": [
    "## \"Gathering\" Data: Reshaping into a  \"Long\" Table with Pandas' melt() function"
   ]
  },
  {
   "cell_type": "markdown",
   "metadata": {},
   "source": [
    "## Joining DataFrames using \"Join\" and \"Merge\""
   ]
  },
  {
   "cell_type": "code",
   "execution_count": 154,
   "metadata": {},
   "outputs": [
    {
     "data": {
      "text/html": [
       "<div>\n",
       "<style>\n",
       "    .dataframe thead tr:only-child th {\n",
       "        text-align: right;\n",
       "    }\n",
       "\n",
       "    .dataframe thead th {\n",
       "        text-align: left;\n",
       "    }\n",
       "\n",
       "    .dataframe tbody tr th {\n",
       "        vertical-align: top;\n",
       "    }\n",
       "</style>\n",
       "<table border=\"1\" class=\"dataframe\">\n",
       "  <thead>\n",
       "    <tr style=\"text-align: right;\">\n",
       "      <th></th>\n",
       "      <th>CountryName</th>\n",
       "      <th>Year</th>\n",
       "      <th>FertilityRate</th>\n",
       "      <th>Continent Name</th>\n",
       "    </tr>\n",
       "  </thead>\n",
       "  <tbody>\n",
       "    <tr>\n",
       "      <th>0</th>\n",
       "      <td>Aruba</td>\n",
       "      <td>1960</td>\n",
       "      <td>4.820</td>\n",
       "      <td>North America</td>\n",
       "    </tr>\n",
       "    <tr>\n",
       "      <th>194</th>\n",
       "      <td>Aruba</td>\n",
       "      <td>1961</td>\n",
       "      <td>4.655</td>\n",
       "      <td>North America</td>\n",
       "    </tr>\n",
       "    <tr>\n",
       "      <th>388</th>\n",
       "      <td>Aruba</td>\n",
       "      <td>1962</td>\n",
       "      <td>4.471</td>\n",
       "      <td>North America</td>\n",
       "    </tr>\n",
       "    <tr>\n",
       "      <th>582</th>\n",
       "      <td>Aruba</td>\n",
       "      <td>1963</td>\n",
       "      <td>4.271</td>\n",
       "      <td>North America</td>\n",
       "    </tr>\n",
       "    <tr>\n",
       "      <th>776</th>\n",
       "      <td>Aruba</td>\n",
       "      <td>1964</td>\n",
       "      <td>4.059</td>\n",
       "      <td>North America</td>\n",
       "    </tr>\n",
       "  </tbody>\n",
       "</table>\n",
       "</div>"
      ],
      "text/plain": [
       "    CountryName  Year  FertilityRate Continent Name\n",
       "0         Aruba  1960          4.820  North America\n",
       "194       Aruba  1961          4.655  North America\n",
       "388       Aruba  1962          4.471  North America\n",
       "582       Aruba  1963          4.271  North America\n",
       "776       Aruba  1964          4.059  North America"
      ]
     },
     "execution_count": 154,
     "metadata": {},
     "output_type": "execute_result"
    }
   ],
   "source": [
    "dfl2 = pd.merge(dfl, countries[['Continent Name']], left_on='CountryName', right_index=True)\n",
    "dfl2.head()"
   ]
  },
  {
   "cell_type": "code",
   "execution_count": 13,
   "metadata": {},
   "outputs": [
    {
     "ename": "NameError",
     "evalue": "name 'df2' is not defined",
     "output_type": "error",
     "traceback": [
      "\u001b[0;31m---------------------------------------------------------------------------\u001b[0m",
      "\u001b[0;31mNameError\u001b[0m                                 Traceback (most recent call last)",
      "\u001b[0;32m<ipython-input-13-9515b216f671>\u001b[0m in \u001b[0;36m<module>\u001b[0;34m()\u001b[0m\n\u001b[0;32m----> 1\u001b[0;31m \u001b[0mdf3\u001b[0m \u001b[0;34m=\u001b[0m \u001b[0mdf2\u001b[0m\u001b[0;34m.\u001b[0m\u001b[0mjoin\u001b[0m\u001b[0;34m(\u001b[0m\u001b[0mcountries\u001b[0m\u001b[0;34m[\u001b[0m\u001b[0;34m'Continent Name'\u001b[0m\u001b[0;34m]\u001b[0m\u001b[0;34m)\u001b[0m\u001b[0;34m.\u001b[0m\u001b[0mreset_index\u001b[0m\u001b[0;34m(\u001b[0m\u001b[0;34m)\u001b[0m\u001b[0;34m\u001b[0m\u001b[0m\n\u001b[0m",
      "\u001b[0;31mNameError\u001b[0m: name 'df2' is not defined"
     ]
    }
   ],
   "source": [
    "df3 = df2.join(countries['Continent Name']).reset_index()\n"
   ]
  },
  {
   "cell_type": "markdown",
   "metadata": {},
   "source": [
    "## A Benefit of Long DataFrames: Simpler Querying"
   ]
  },
  {
   "cell_type": "code",
   "execution_count": 281,
   "metadata": {},
   "outputs": [
    {
     "data": {
      "text/html": [
       "<div>\n",
       "<style>\n",
       "    .dataframe thead tr:only-child th {\n",
       "        text-align: right;\n",
       "    }\n",
       "\n",
       "    .dataframe thead th {\n",
       "        text-align: left;\n",
       "    }\n",
       "\n",
       "    .dataframe tbody tr th {\n",
       "        vertical-align: top;\n",
       "    }\n",
       "</style>\n",
       "<table border=\"1\" class=\"dataframe\">\n",
       "  <thead>\n",
       "    <tr style=\"text-align: right;\">\n",
       "      <th></th>\n",
       "      <th>CountryName</th>\n",
       "      <th>Continent Name</th>\n",
       "      <th>Year</th>\n",
       "      <th>FertilityRate</th>\n",
       "    </tr>\n",
       "  </thead>\n",
       "  <tbody>\n",
       "    <tr>\n",
       "      <th>0</th>\n",
       "      <td>Aruba</td>\n",
       "      <td>North America</td>\n",
       "      <td>1960</td>\n",
       "      <td>4.820</td>\n",
       "    </tr>\n",
       "    <tr>\n",
       "      <th>1</th>\n",
       "      <td>Andorra</td>\n",
       "      <td>Europe</td>\n",
       "      <td>1960</td>\n",
       "      <td>NaN</td>\n",
       "    </tr>\n",
       "    <tr>\n",
       "      <th>2</th>\n",
       "      <td>Afghanistan</td>\n",
       "      <td>Asia</td>\n",
       "      <td>1960</td>\n",
       "      <td>7.671</td>\n",
       "    </tr>\n",
       "    <tr>\n",
       "      <th>3</th>\n",
       "      <td>Angola</td>\n",
       "      <td>Africa</td>\n",
       "      <td>1960</td>\n",
       "      <td>7.316</td>\n",
       "    </tr>\n",
       "    <tr>\n",
       "      <th>4</th>\n",
       "      <td>Albania</td>\n",
       "      <td>Europe</td>\n",
       "      <td>1960</td>\n",
       "      <td>6.186</td>\n",
       "    </tr>\n",
       "  </tbody>\n",
       "</table>\n",
       "</div>"
      ],
      "text/plain": [
       "   CountryName Continent Name  Year  FertilityRate\n",
       "0        Aruba  North America  1960          4.820\n",
       "1      Andorra         Europe  1960            NaN\n",
       "2  Afghanistan           Asia  1960          7.671\n",
       "3       Angola         Africa  1960          7.316\n",
       "4      Albania         Europe  1960          6.186"
      ]
     },
     "execution_count": 281,
     "metadata": {},
     "output_type": "execute_result"
    }
   ],
   "source": [
    "dfl.head()"
   ]
  },
  {
   "cell_type": "markdown",
   "metadata": {
    "slideshow": {
     "slide_type": "slide"
    }
   },
   "source": [
    "# Building Beautiful Plots with Seaborn"
   ]
  },
  {
   "cell_type": "code",
   "execution_count": 158,
   "metadata": {},
   "outputs": [
    {
     "data": {
      "text/html": [
       "\n",
       "        <iframe\n",
       "            width=\"800\"\n",
       "            height=\"600\"\n",
       "            src=\"http://seaborn.pydata.org/\"\n",
       "            frameborder=\"0\"\n",
       "            allowfullscreen\n",
       "        ></iframe>\n",
       "        "
      ],
      "text/plain": [
       "<IPython.lib.display.IFrame at 0x7fcafb230860>"
      ]
     },
     "execution_count": 158,
     "metadata": {},
     "output_type": "execute_result"
    }
   ],
   "source": [
    "IFrame('http://seaborn.pydata.org/', width=800, height=600)"
   ]
  },
  {
   "cell_type": "markdown",
   "metadata": {},
   "source": [
    "## Use Case: Time Series Plotting with Seaborn.tsplot()\n",
    "It's a bit finicky (especially with NaNs), but it handles error shading in a great way!"
   ]
  },
  {
   "cell_type": "code",
   "execution_count": 160,
   "metadata": {},
   "outputs": [
    {
     "name": "stderr",
     "output_type": "stream",
     "text": [
      "/home/nickdg/anaconda3/lib/python3.5/site-packages/seaborn/timeseries.py:183: UserWarning: The tsplot function is deprecated and will be removed or replaced (in a substantially altered version) in a future release.\n",
      "  warnings.warn(msg, UserWarning)\n"
     ]
    },
    {
     "data": {
      "text/plain": [
       "<matplotlib.axes._subplots.AxesSubplot at 0x7fcb00151080>"
      ]
     },
     "execution_count": 160,
     "metadata": {},
     "output_type": "execute_result"
    },
    {
     "data": {
      "image/png": "[encoded data removed]",
      "text/plain": [
       "<matplotlib.figure.Figure at 0x7fcb00444f98>"
      ]
     },
     "metadata": {},
     "output_type": "display_data"
    }
   ],
   "source": [
    "sns.tsplot(data=dfl2, time='Year', value='FertilityRate', condition='Continent Name', unit='CountryName')"
   ]
  },
  {
   "cell_type": "markdown",
   "metadata": {},
   "source": [
    "## Use Case: Plotting Categorical Data with a Declarative Syntax"
   ]
  },
  {
   "cell_type": "code",
   "execution_count": 164,
   "metadata": {},
   "outputs": [
    {
     "data": {
      "text/html": [
       "<div>\n",
       "<style>\n",
       "    .dataframe thead tr:only-child th {\n",
       "        text-align: right;\n",
       "    }\n",
       "\n",
       "    .dataframe thead th {\n",
       "        text-align: left;\n",
       "    }\n",
       "\n",
       "    .dataframe tbody tr th {\n",
       "        vertical-align: top;\n",
       "    }\n",
       "</style>\n",
       "<table border=\"1\" class=\"dataframe\">\n",
       "  <thead>\n",
       "    <tr style=\"text-align: right;\">\n",
       "      <th></th>\n",
       "      <th>CountryName</th>\n",
       "      <th>Year</th>\n",
       "      <th>FertilityRate</th>\n",
       "      <th>Continent Name</th>\n",
       "      <th>Decade</th>\n",
       "    </tr>\n",
       "  </thead>\n",
       "  <tbody>\n",
       "    <tr>\n",
       "      <th>0</th>\n",
       "      <td>Aruba</td>\n",
       "      <td>1960</td>\n",
       "      <td>4.820</td>\n",
       "      <td>North America</td>\n",
       "      <td>1960</td>\n",
       "    </tr>\n",
       "    <tr>\n",
       "      <th>194</th>\n",
       "      <td>Aruba</td>\n",
       "      <td>1961</td>\n",
       "      <td>4.655</td>\n",
       "      <td>North America</td>\n",
       "      <td>1960</td>\n",
       "    </tr>\n",
       "    <tr>\n",
       "      <th>388</th>\n",
       "      <td>Aruba</td>\n",
       "      <td>1962</td>\n",
       "      <td>4.471</td>\n",
       "      <td>North America</td>\n",
       "      <td>1960</td>\n",
       "    </tr>\n",
       "    <tr>\n",
       "      <th>582</th>\n",
       "      <td>Aruba</td>\n",
       "      <td>1963</td>\n",
       "      <td>4.271</td>\n",
       "      <td>North America</td>\n",
       "      <td>1960</td>\n",
       "    </tr>\n",
       "    <tr>\n",
       "      <th>776</th>\n",
       "      <td>Aruba</td>\n",
       "      <td>1964</td>\n",
       "      <td>4.059</td>\n",
       "      <td>North America</td>\n",
       "      <td>1960</td>\n",
       "    </tr>\n",
       "  </tbody>\n",
       "</table>\n",
       "</div>"
      ],
      "text/plain": [
       "    CountryName  Year  FertilityRate Continent Name  Decade\n",
       "0         Aruba  1960          4.820  North America    1960\n",
       "194       Aruba  1961          4.655  North America    1960\n",
       "388       Aruba  1962          4.471  North America    1960\n",
       "582       Aruba  1963          4.271  North America    1960\n",
       "776       Aruba  1964          4.059  North America    1960"
      ]
     },
     "execution_count": 164,
     "metadata": {},
     "output_type": "execute_result"
    }
   ],
   "source": [
    "dfl2['Decade'] = (dfl.Year.astype(float) // 10 * 10).astype(int)\n",
    "dfl2.head()"
   ]
  },
  {
   "cell_type": "markdown",
   "metadata": {},
   "source": [
    "## Use Case: Building Complex Subplots with FacetGrid.map()"
   ]
  },
  {
   "cell_type": "code",
   "execution_count": 167,
   "metadata": {},
   "outputs": [
    {
     "data": {
      "text/plain": [
       "<seaborn.axisgrid.FacetGrid at 0x7fcaef4bdd68>"
      ]
     },
     "execution_count": 167,
     "metadata": {},
     "output_type": "execute_result"
    },
    {
     "data": {
      "image/png": "[encoded data removed]",
      "text/plain": [
       "<matplotlib.figure.Figure at 0x7fcaef4bd5f8>"
      ]
     },
     "metadata": {},
     "output_type": "display_data"
    }
   ],
   "source": [
    "g = sns.FacetGrid(data=dfl2, hue='Continent Name', row='Decade')\n",
    "g.map(plt.plot, 'Year', 'FertilityRate')"
   ]
  },
  {
   "cell_type": "markdown",
   "metadata": {},
   "source": [
    "## Seaborn's Killer Function:  factorplot()"
   ]
  },
  {
   "cell_type": "code",
   "execution_count": 174,
   "metadata": {},
   "outputs": [
    {
     "data": {
      "text/plain": [
       "<matplotlib.figure.Figure at 0x7fcaf155fdd8>"
      ]
     },
     "metadata": {},
     "output_type": "display_data"
    },
    {
     "data": {
      "image/png": "[encoded data removed]",
      "text/plain": [
       "<matplotlib.figure.Figure at 0x7fcaf1e8c908>"
      ]
     },
     "metadata": {},
     "output_type": "display_data"
    },
    {
     "data": {
      "text/plain": [
       "<matplotlib.figure.Figure at 0x7fcb0010b748>"
      ]
     },
     "metadata": {},
     "output_type": "display_data"
    },
    {
     "data": {
      "image/png": "[encoded data removed]",
      "text/plain": [
       "<matplotlib.figure.Figure at 0x7fcafbf8dcf8>"
      ]
     },
     "metadata": {},
     "output_type": "display_data"
    },
    {
     "data": {
      "text/plain": [
       "<matplotlib.figure.Figure at 0x7fcafabbc5f8>"
      ]
     },
     "metadata": {},
     "output_type": "display_data"
    },
    {
     "data": {
      "image/png": "[encoded data removed]",
      "text/plain": [
       "<matplotlib.figure.Figure at 0x7fcafbfce400>"
      ]
     },
     "metadata": {},
     "output_type": "display_data"
    },
    {
     "data": {
      "text/plain": [
       "<matplotlib.figure.Figure at 0x7fcafbfcefd0>"
      ]
     },
     "metadata": {},
     "output_type": "display_data"
    },
    {
     "data": {
      "image/png": "[encoded data removed]",
      "text/plain": [
       "<matplotlib.figure.Figure at 0x7fcaed2bc3c8>"
      ]
     },
     "metadata": {},
     "output_type": "display_data"
    },
    {
     "data": {
      "text/plain": [
       "<matplotlib.figure.Figure at 0x7fcafbfce208>"
      ]
     },
     "metadata": {},
     "output_type": "display_data"
    },
    {
     "data": {
      "image/png": "[encoded data removed]",
      "text/plain": [
       "<matplotlib.figure.Figure at 0x7fcafa9c3358>"
      ]
     },
     "metadata": {},
     "output_type": "display_data"
    },
    {
     "data": {
      "text/plain": [
       "<matplotlib.figure.Figure at 0x7fcafa9c3160>"
      ]
     },
     "metadata": {},
     "output_type": "display_data"
    },
    {
     "data": {
      "image/png": "[encoded data removed]",
      "text/plain": [
       "<matplotlib.figure.Figure at 0x7fcafac62470>"
      ]
     },
     "metadata": {},
     "output_type": "display_data"
    },
    {
     "data": {
      "text/plain": [
       "<matplotlib.figure.Figure at 0x7fcafa9c32b0>"
      ]
     },
     "metadata": {},
     "output_type": "display_data"
    },
    {
     "data": {
      "image/png": "[encoded data removed]",
      "text/plain": [
       "<matplotlib.figure.Figure at 0x7fcafbfe1208>"
      ]
     },
     "metadata": {},
     "output_type": "display_data"
    }
   ],
   "source": [
    "for cnt, dd in dfl2.groupby('Continent Name'):\n",
    "    fig = plt.figure()\n",
    "    sns.factorplot(data=dd, x='Decade', y='FertilityRate')\n",
    "    fig.savefig('test_{}.png'.format(cnt))"
   ]
  },
  {
   "cell_type": "code",
   "execution_count": 175,
   "metadata": {},
   "outputs": [
    {
     "name": "stdout",
     "output_type": "stream",
     "text": [
      "Long Pandas Talk-Copy1.ipynb   \u001b[0m\u001b[01;35mtest_Africa.png\u001b[0m           \u001b[01;35mtest_North America.png\u001b[0m\r\n",
      "Long Pandas Talk.ipynb         \u001b[01;35mtest_Asia.png\u001b[0m             \u001b[01;35mtest_South America.png\u001b[0m\r\n",
      "oktoberfestgesamt19852016.csv  \u001b[01;35mtest_Australia.png\u001b[0m        worldbankdata.csv\r\n",
      "README.md                      \u001b[01;35mtest_Central America.png\u001b[0m\r\n",
      "requirements.txt               \u001b[01;35mtest_Europe.png\u001b[0m\r\n"
     ]
    }
   ],
   "source": [
    "ls"
   ]
  },
  {
   "cell_type": "code",
   "execution_count": 172,
   "metadata": {},
   "outputs": [
    {
     "data": {
      "text/plain": [
       "<seaborn.axisgrid.FacetGrid at 0x7fcaef1509e8>"
      ]
     },
     "execution_count": 172,
     "metadata": {},
     "output_type": "execute_result"
    },
    {
     "data": {
      "image/png": "[encoded data removed]",
      "text/plain": [
       "<matplotlib.figure.Figure at 0x7fcaf00b6eb8>"
      ]
     },
     "metadata": {},
     "output_type": "display_data"
    }
   ],
   "source": [
    "sns.factorplot(data=dfl2, x='Decade', y='FertilityRate', row='Continent Name', )"
   ]
  },
  {
   "cell_type": "markdown",
   "metadata": {},
   "source": [
    "# Doing R-Like Statistics with StatsModels"
   ]
  },
  {
   "cell_type": "code",
   "execution_count": 176,
   "metadata": {},
   "outputs": [
    {
     "data": {
      "text/html": [
       "\n",
       "        <iframe\n",
       "            width=\"900\"\n",
       "            height=\"600\"\n",
       "            src=\"http://www.statsmodels.org/stable/index.html\"\n",
       "            frameborder=\"0\"\n",
       "            allowfullscreen\n",
       "        ></iframe>\n",
       "        "
      ],
      "text/plain": [
       "<IPython.lib.display.IFrame at 0x7fcaf1f39080>"
      ]
     },
     "execution_count": 176,
     "metadata": {},
     "output_type": "execute_result"
    }
   ],
   "source": [
    "IFrame('http://www.statsmodels.org/stable/index.html', width=900, height=600)"
   ]
  },
  {
   "cell_type": "markdown",
   "metadata": {},
   "source": [
    "## Statsmodels Uses a Statistical Modeling Sub-Language called Patsy"
   ]
  },
  {
   "cell_type": "code",
   "execution_count": 177,
   "metadata": {
    "collapsed": true
   },
   "outputs": [],
   "source": [
    "import statsmodels.formula.api as smf"
   ]
  },
  {
   "cell_type": "code",
   "execution_count": 182,
   "metadata": {},
   "outputs": [],
   "source": [
    "dfl2['Year'] = dfl2.Year.astype(int)"
   ]
  },
  {
   "cell_type": "code",
   "execution_count": 187,
   "metadata": {},
   "outputs": [
    {
     "data": {
      "text/html": [
       "<table class=\"simpletable\">\n",
       "<caption>Generalized Linear Model Regression Results</caption>\n",
       "<tr>\n",
       "  <th>Dep. Variable:</th>    <td>FertilityRate</td>  <th>  No. Observations:  </th>    <td>  8415</td>    \n",
       "</tr>\n",
       "<tr>\n",
       "  <th>Model:</th>                 <td>GLM</td>       <th>  Df Residuals:      </th>    <td>  8401</td>    \n",
       "</tr>\n",
       "<tr>\n",
       "  <th>Model Family:</th>       <td>Gaussian</td>     <th>  Df Model:          </th>    <td>    13</td>    \n",
       "</tr>\n",
       "<tr>\n",
       "  <th>Link Function:</th>      <td>identity</td>     <th>  Scale:             </th> <td>1.20287941865</td>\n",
       "</tr>\n",
       "<tr>\n",
       "  <th>Method:</th>               <td>IRLS</td>       <th>  Log-Likelihood:    </th>   <td> -12711.</td>   \n",
       "</tr>\n",
       "<tr>\n",
       "  <th>Date:</th>           <td>Thu, 19 Oct 2017</td> <th>  Deviance:          </th>   <td>  10105.</td>   \n",
       "</tr>\n",
       "<tr>\n",
       "  <th>Time:</th>               <td>20:17:57</td>     <th>  Pearson chi2:      </th>   <td>1.01e+04</td>   \n",
       "</tr>\n",
       "<tr>\n",
       "  <th>No. Iterations:</th>         <td>2</td>        <th>                     </th>       <td> </td>      \n",
       "</tr>\n",
       "</table>\n",
       "<table class=\"simpletable\">\n",
       "<tr>\n",
       "                  <td></td>                     <th>coef</th>     <th>std err</th>      <th>z</th>      <th>P>|z|</th>  <th>[0.025</th>    <th>0.975]</th>  \n",
       "</tr>\n",
       "<tr>\n",
       "  <th>Intercept</th>                         <td>   94.3549</td> <td>    3.021</td> <td>   31.233</td> <td> 0.000</td> <td>   88.434</td> <td>  100.276</td>\n",
       "</tr>\n",
       "<tr>\n",
       "  <th>Continent[T.Asia]</th>                 <td>   79.7746</td> <td>    4.624</td> <td>   17.252</td> <td> 0.000</td> <td>   70.712</td> <td>   88.838</td>\n",
       "</tr>\n",
       "<tr>\n",
       "  <th>Continent[T.Australia]</th>            <td>   34.1834</td> <td>    6.699</td> <td>    5.103</td> <td> 0.000</td> <td>   21.054</td> <td>   47.313</td>\n",
       "</tr>\n",
       "<tr>\n",
       "  <th>Continent[T.Central America]</th>      <td>   65.5491</td> <td>    7.213</td> <td>    9.088</td> <td> 0.000</td> <td>   51.413</td> <td>   79.686</td>\n",
       "</tr>\n",
       "<tr>\n",
       "  <th>Continent[T.Europe]</th>               <td>  -29.3019</td> <td>    4.455</td> <td>   -6.577</td> <td> 0.000</td> <td>  -38.034</td> <td>  -20.570</td>\n",
       "</tr>\n",
       "<tr>\n",
       "  <th>Continent[T.North America]</th>        <td>   37.7416</td> <td>    7.213</td> <td>    5.233</td> <td> 0.000</td> <td>   23.605</td> <td>   51.878</td>\n",
       "</tr>\n",
       "<tr>\n",
       "  <th>Continent[T.South America]</th>        <td>   54.1501</td> <td>    6.937</td> <td>    7.806</td> <td> 0.000</td> <td>   40.554</td> <td>   67.746</td>\n",
       "</tr>\n",
       "<tr>\n",
       "  <th>Year</th>                              <td>   -0.0445</td> <td>    0.002</td> <td>  -29.218</td> <td> 0.000</td> <td>   -0.047</td> <td>   -0.041</td>\n",
       "</tr>\n",
       "<tr>\n",
       "  <th>Year:Continent[T.Asia]</th>            <td>   -0.0409</td> <td>    0.002</td> <td>  -17.574</td> <td> 0.000</td> <td>   -0.046</td> <td>   -0.036</td>\n",
       "</tr>\n",
       "<tr>\n",
       "  <th>Year:Continent[T.Australia]</th>       <td>   -0.0181</td> <td>    0.003</td> <td>   -5.368</td> <td> 0.000</td> <td>   -0.025</td> <td>   -0.011</td>\n",
       "</tr>\n",
       "<tr>\n",
       "  <th>Year:Continent[T.Central America]</th> <td>   -0.0340</td> <td>    0.004</td> <td>   -9.348</td> <td> 0.000</td> <td>   -0.041</td> <td>   -0.027</td>\n",
       "</tr>\n",
       "<tr>\n",
       "  <th>Year:Continent[T.Europe]</th>          <td>    0.0128</td> <td>    0.002</td> <td>    5.682</td> <td> 0.000</td> <td>    0.008</td> <td>    0.017</td>\n",
       "</tr>\n",
       "<tr>\n",
       "  <th>Year:Continent[T.North America]</th>   <td>   -0.0204</td> <td>    0.004</td> <td>   -5.620</td> <td> 0.000</td> <td>   -0.028</td> <td>   -0.013</td>\n",
       "</tr>\n",
       "<tr>\n",
       "  <th>Year:Continent[T.South America]</th>   <td>   -0.0284</td> <td>    0.003</td> <td>   -8.123</td> <td> 0.000</td> <td>   -0.035</td> <td>   -0.022</td>\n",
       "</tr>\n",
       "</table>"
      ],
      "text/plain": [
       "<class 'statsmodels.iolib.summary.Summary'>\n",
       "\"\"\"\n",
       "                 Generalized Linear Model Regression Results                  \n",
       "==============================================================================\n",
       "Dep. Variable:          FertilityRate   No. Observations:                 8415\n",
       "Model:                            GLM   Df Residuals:                     8401\n",
       "Model Family:                Gaussian   Df Model:                           13\n",
       "Link Function:               identity   Scale:                   1.20287941865\n",
       "Method:                          IRLS   Log-Likelihood:                -12711.\n",
       "Date:                Thu, 19 Oct 2017   Deviance:                       10105.\n",
       "Time:                        20:17:57   Pearson chi2:                 1.01e+04\n",
       "No. Iterations:                     2                                         \n",
       "=====================================================================================================\n",
       "                                        coef    std err          z      P>|z|      [0.025      0.975]\n",
       "-----------------------------------------------------------------------------------------------------\n",
       "Intercept                            94.3549      3.021     31.233      0.000      88.434     100.276\n",
       "Continent[T.Asia]                    79.7746      4.624     17.252      0.000      70.712      88.838\n",
       "Continent[T.Australia]               34.1834      6.699      5.103      0.000      21.054      47.313\n",
       "Continent[T.Central America]         65.5491      7.213      9.088      0.000      51.413      79.686\n",
       "Continent[T.Europe]                 -29.3019      4.455     -6.577      0.000     -38.034     -20.570\n",
       "Continent[T.North America]           37.7416      7.213      5.233      0.000      23.605      51.878\n",
       "Continent[T.South America]           54.1501      6.937      7.806      0.000      40.554      67.746\n",
       "Year                                 -0.0445      0.002    -29.218      0.000      -0.047      -0.041\n",
       "Year:Continent[T.Asia]               -0.0409      0.002    -17.574      0.000      -0.046      -0.036\n",
       "Year:Continent[T.Australia]          -0.0181      0.003     -5.368      0.000      -0.025      -0.011\n",
       "Year:Continent[T.Central America]    -0.0340      0.004     -9.348      0.000      -0.041      -0.027\n",
       "Year:Continent[T.Europe]              0.0128      0.002      5.682      0.000       0.008       0.017\n",
       "Year:Continent[T.North America]      -0.0204      0.004     -5.620      0.000      -0.028      -0.013\n",
       "Year:Continent[T.South America]      -0.0284      0.003     -8.123      0.000      -0.035      -0.022\n",
       "=====================================================================================================\n",
       "\"\"\""
      ]
     },
     "execution_count": 187,
     "metadata": {},
     "output_type": "execute_result"
    }
   ],
   "source": [
    "dfl2['Continent'] = dfl2['Continent Name']\n",
    "model = smf.glm(data=dfl2, formula='FertilityRate ~ Year * Continent')\n",
    "model.fit().summary()"
   ]
  },
  {
   "cell_type": "markdown",
   "metadata": {
    "collapsed": true
   },
   "source": [
    "# Want to Explore More?  Why Not OktoberFest?"
   ]
  },
  {
   "cell_type": "code",
   "execution_count": 241,
   "metadata": {},
   "outputs": [
    {
     "data": {
      "text/html": [
       "\n",
       "        <iframe\n",
       "            width=\"800\"\n",
       "            height=\"600\"\n",
       "            src=\"https://www.opengov-muenchen.de/dataset/oktoberfest/resource/e0f664cf-6dd9-4743-bd2b-81a8b18bd1d2\"\n",
       "            frameborder=\"0\"\n",
       "            allowfullscreen\n",
       "        ></iframe>\n",
       "        "
      ],
      "text/plain": [
       "<IPython.lib.display.IFrame at 0x7fa5a2b6cb70>"
      ]
     },
     "execution_count": 241,
     "metadata": {},
     "output_type": "execute_result"
    }
   ],
   "source": [
    "IFrame('https://www.opengov-muenchen.de/dataset/oktoberfest/resource/e0f664cf-6dd9-4743-bd2b-81a8b18bd1d2', width=800, height=600)"
   ]
  },
  {
   "cell_type": "code",
   "execution_count": 242,
   "metadata": {},
   "outputs": [
    {
     "data": {
      "text/html": [
       "<div>\n",
       "<style>\n",
       "    .dataframe thead tr:only-child th {\n",
       "        text-align: right;\n",
       "    }\n",
       "\n",
       "    .dataframe thead th {\n",
       "        text-align: left;\n",
       "    }\n",
       "\n",
       "    .dataframe tbody tr th {\n",
       "        vertical-align: top;\n",
       "    }\n",
       "</style>\n",
       "<table border=\"1\" class=\"dataframe\">\n",
       "  <thead>\n",
       "    <tr style=\"text-align: right;\">\n",
       "      <th></th>\n",
       "      <th>jahr</th>\n",
       "      <th>dauer</th>\n",
       "      <th>besucher_gesamt</th>\n",
       "      <th>besucher_tag</th>\n",
       "      <th>bier_preis</th>\n",
       "      <th>bier_konsum</th>\n",
       "      <th>hendl_preis</th>\n",
       "      <th>hendl_konsum</th>\n",
       "    </tr>\n",
       "  </thead>\n",
       "  <tbody>\n",
       "    <tr>\n",
       "      <th>0</th>\n",
       "      <td>1985</td>\n",
       "      <td>16</td>\n",
       "      <td>7.1</td>\n",
       "      <td>444</td>\n",
       "      <td>3.20</td>\n",
       "      <td>54541</td>\n",
       "      <td>4.77</td>\n",
       "      <td>629520</td>\n",
       "    </tr>\n",
       "    <tr>\n",
       "      <th>1</th>\n",
       "      <td>1986</td>\n",
       "      <td>16</td>\n",
       "      <td>6.7</td>\n",
       "      <td>419</td>\n",
       "      <td>3.30</td>\n",
       "      <td>53807</td>\n",
       "      <td>3.92</td>\n",
       "      <td>698137</td>\n",
       "    </tr>\n",
       "    <tr>\n",
       "      <th>2</th>\n",
       "      <td>1987</td>\n",
       "      <td>16</td>\n",
       "      <td>6.5</td>\n",
       "      <td>406</td>\n",
       "      <td>3.37</td>\n",
       "      <td>51842</td>\n",
       "      <td>3.98</td>\n",
       "      <td>732859</td>\n",
       "    </tr>\n",
       "    <tr>\n",
       "      <th>3</th>\n",
       "      <td>1988</td>\n",
       "      <td>16</td>\n",
       "      <td>5.7</td>\n",
       "      <td>356</td>\n",
       "      <td>3.45</td>\n",
       "      <td>50951</td>\n",
       "      <td>4.19</td>\n",
       "      <td>720139</td>\n",
       "    </tr>\n",
       "    <tr>\n",
       "      <th>4</th>\n",
       "      <td>1989</td>\n",
       "      <td>16</td>\n",
       "      <td>6.2</td>\n",
       "      <td>388</td>\n",
       "      <td>3.60</td>\n",
       "      <td>51241</td>\n",
       "      <td>4.22</td>\n",
       "      <td>775674</td>\n",
       "    </tr>\n",
       "  </tbody>\n",
       "</table>\n",
       "</div>"
      ],
      "text/plain": [
       "   jahr  dauer  besucher_gesamt  besucher_tag  bier_preis  bier_konsum  \\\n",
       "0  1985     16              7.1           444        3.20        54541   \n",
       "1  1986     16              6.7           419        3.30        53807   \n",
       "2  1987     16              6.5           406        3.37        51842   \n",
       "3  1988     16              5.7           356        3.45        50951   \n",
       "4  1989     16              6.2           388        3.60        51241   \n",
       "\n",
       "   hendl_preis  hendl_konsum  \n",
       "0         4.77        629520  \n",
       "1         3.92        698137  \n",
       "2         3.98        732859  \n",
       "3         4.19        720139  \n",
       "4         4.22        775674  "
      ]
     },
     "execution_count": 242,
     "metadata": {},
     "output_type": "execute_result"
    }
   ],
   "source": [
    "okt = pd.read_csv('oktoberfestgesamt19852016.csv')\n",
    "okt.head()"
   ]
  },
  {
   "cell_type": "code",
   "execution_count": null,
   "metadata": {
    "collapsed": true
   },
   "outputs": [],
   "source": []
  }
 ],
 "metadata": {
  "anaconda-cloud": {},
  "kernelspec": {
   "display_name": "Python 3",
   "language": "python",
   "name": "python3"
  },
  "language_info": {
   "codemirror_mode": {
    "name": "ipython",
    "version": 3
   },
   "file_extension": ".py",
   "mimetype": "text/x-python",
   "name": "python",
   "nbconvert_exporter": "python",
   "pygments_lexer": "ipython3",
   "version": "3.6.0"
  }
 },
 "nbformat": 4,
 "nbformat_minor": 2
}
